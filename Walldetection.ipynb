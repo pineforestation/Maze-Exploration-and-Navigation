{
 "cells": [
  {
   "cell_type": "code",
   "execution_count": null,
   "metadata": {},
   "outputs": [],
   "source": [
    "import os\n",
    "import cv2\n",
    "import math\n",
    "import numpy as np\n",
    "\n",
    "\n",
    "# Threshold by which lines will be rejected wrt the horizontal\n",
    "REJECT_DEGREE_TH = 4.0\n"
   ]
  },
  {
   "cell_type": "code",
   "execution_count": null,
   "metadata": {},
   "outputs": [],
   "source": [
    "def FilterLines(Lines):\n",
    "    FinalLines = []\n",
    "    \n",
    "    for Line in Lines:\n",
    "        [[x1, y1, x2, y2]] = Line\n",
    "        # Calculating equation of the line: y = mx + c\n",
    "        if x1 != x2:\n",
    "            m = (y2 - y1) / (x2 - x1)\n",
    "        else:\n",
    "            m = 100000000\n",
    "        c = y2 - m*x2\n",
    "        # theta will contain values between -90 -> +90. \n",
    "        theta = math.degrees(math.atan(m))\n",
    "\n",
    "        # Rejecting lines of slope near to 0 degree or 90 degree and storing others\n",
    "        if REJECT_DEGREE_TH <= abs(theta) <= (90 - REJECT_DEGREE_TH):\n",
    "            l = math.sqrt( (y2 - y1)**2 + (x2 - x1)**2 )    # length of the line\n",
    "            FinalLines.append([x1, y1, x2, y2, m, c, l])\n",
    "    if len(FinalLines) > 15:\n",
    "        FinalLines = sorted(FinalLines, key=lambda x: x[-1], reverse=True)\n",
    "        FinalLines = FinalLines[:15]\n",
    "    \n",
    "    return FinalLines\n"
   ]
  },
  {
   "cell_type": "code",
   "execution_count": null,
   "metadata": {},
   "outputs": [],
   "source": [
    "\n",
    "def GetLines(Image):\n",
    "    # Converting to grayscale\n",
    "    GrayImage = cv2.cvtColor(Image, cv2.COLOR_BGR2GRAY)\n",
    "    # Blurring image to reduce noise.\n",
    "    BlurGrayImage = cv2.GaussianBlur(GrayImage, (5, 5), 1)\n",
    "    # Generating Edge image\n",
    "    EdgeImage = cv2.Canny(BlurGrayImage, 40, 255)\n",
    "\n",
    "    # Finding Lines in the image\n",
    "    Lines = cv2.HoughLinesP(EdgeImage, 1, np.pi / 180, 50, 10, 15)\n",
    "\n",
    "    # Check if lines found and exit if not.\n",
    "    if Lines is None:\n",
    "        print(\"Not enough lines found in the image for Vanishing Point detection.\")\n",
    "        exit(0)\n",
    "    \n",
    "    # Filtering Lines wrt angle\n",
    "    FilteredLines = FilterLines(Lines)\n",
    "\n",
    "    return FilteredLines\n"
   ]
  },
  {
   "cell_type": "code",
   "execution_count": null,
   "metadata": {},
   "outputs": [],
   "source": [
    "\n",
    "\n",
    "def GetVanishingPoint(Lines):\n",
    "    VanishingPoint = None\n",
    "    MinError = 100000000000\n",
    "\n",
    "    for i in range(len(Lines)):\n",
    "        for j in range(i+1, len(Lines)):\n",
    "            m1, c1 = Lines[i][4], Lines[i][5]\n",
    "            m2, c2 = Lines[j][4], Lines[j][5]\n",
    "\n",
    "            if m1 != m2:\n",
    "                x0 = (c1 - c2) / (m2 - m1)\n",
    "                y0 = m1 * x0 + c1\n",
    "\n",
    "                err = 0\n",
    "                for k in range(len(Lines)):\n",
    "                    m, c = Lines[k][4], Lines[k][5]\n",
    "                    m_ = (-1 / m)\n",
    "                    c_ = y0 - m_ * x0\n",
    "\n",
    "                    x_ = (c - c_) / (m_ - m)\n",
    "                    y_ = m_ * x_ + c_\n",
    "\n",
    "                    l = math.sqrt((y_ - y0)**2 + (x_ - x0)**2)\n",
    "\n",
    "                    err += l**2\n",
    "\n",
    "                err = math.sqrt(err)\n",
    "\n",
    "                if MinError > err:\n",
    "                    MinError = err\n",
    "                    VanishingPoint = [x0, y0]\n",
    "                \n",
    "    return VanishingPoint\n"
   ]
  },
  {
   "cell_type": "code",
   "execution_count": null,
   "metadata": {},
   "outputs": [],
   "source": [
    "\n",
    "def point_pos(x1,y1,A,B, VanishingPoint):\n",
    "    detT = (B[1]-VanishingPoint[1])*(A[0]-VanishingPoint[0]) + (VanishingPoint[0]-B[0])*(A[1]-VanishingPoint[1])\n",
    "    beta1 = ((B[1]-VanishingPoint[1])*(x1-VanishingPoint[0]) + (VanishingPoint[0]-B[0])*(y1-VanishingPoint[1]))/detT\n",
    "    alpha1 = ((VanishingPoint[1]-A[1])*(x1-VanishingPoint[0]) + (A[0]-VanishingPoint[0])*(y1-VanishingPoint[1]))/detT\n",
    "    gamma1 = 1-alpha1-beta1\n",
    "    return 0<= alpha1 <=1 and 0<= beta1 <= 1 and 0<=gamma1<=1\n",
    "\n",
    "def walldetection(Lines, V):\n",
    "   # lines that exist in the area bounded by vanishing point and left corners correspond to the left wall\n",
    "   # lines that exist in the area bounded by vanishing point and right corners correspond to the right corner\n",
    "    A = (0,0) #left_up_corner\n",
    "    B = (0,240) #left_down_corner\n",
    "   \n",
    "    C = (320,0) #right_up_corner\n",
    "    D = (320,240) #right_down_corner\n",
    "    for line in Lines:\n",
    "        [[x1, y1, x2, y2]] = line\n",
    "        if point_pos(x1,y1,A,B,V) and point_pos(x2,y2,A,B,V):\n",
    "            wall = \"LEFTTWALL\"\n",
    "            return wall\n",
    "        elif point_pos(x1,y1,C,D,V) and point_pos(x2,y2,C,D,V):\n",
    "            wall = \"RIGHTWALL\"\n",
    "            return wall\n",
    "        else: wall = \"NOWALL\"    \n",
    "    return wall"
   ]
  },
  {
   "cell_type": "code",
   "execution_count": 7,
   "metadata": {},
   "outputs": [
    {
     "name": "stderr",
     "output_type": "stream",
     "text": [
      "C:\\Users\\vaish\\AppData\\Local\\Temp\\ipykernel_8156\\2993712405.py:11: RuntimeWarning: overflow encountered in scalar multiply\n",
      "  c = y2 - m*x2\n"
     ]
    },
    {
     "ename": "ValueError",
     "evalue": "too many values to unpack (expected 1)",
     "output_type": "error",
     "traceback": [
      "\u001b[1;31m---------------------------------------------------------------------------\u001b[0m",
      "\u001b[1;31mValueError\u001b[0m                                Traceback (most recent call last)",
      "\u001b[1;32mUntitled-1.ipynb Cell 7\u001b[0m line \u001b[0;36m9\n\u001b[0;32m      <a href='vscode-notebook-cell:Untitled-1.ipynb?jupyter-notebook#W1sdW50aXRsZWQ%3D?line=6'>7</a>\u001b[0m \u001b[39m# Get vanishing point\u001b[39;00m\n\u001b[0;32m      <a href='vscode-notebook-cell:Untitled-1.ipynb?jupyter-notebook#W1sdW50aXRsZWQ%3D?line=7'>8</a>\u001b[0m VanishingPoint \u001b[39m=\u001b[39m GetVanishingPoint(Lines)\n\u001b[1;32m----> <a href='vscode-notebook-cell:Untitled-1.ipynb?jupyter-notebook#W1sdW50aXRsZWQ%3D?line=8'>9</a>\u001b[0m Wall \u001b[39m=\u001b[39m walldetection(Lines,VanishingPoint)\n\u001b[0;32m     <a href='vscode-notebook-cell:Untitled-1.ipynb?jupyter-notebook#W1sdW50aXRsZWQ%3D?line=9'>10</a>\u001b[0m \u001b[39mprint\u001b[39m(Wall)\n\u001b[0;32m     <a href='vscode-notebook-cell:Untitled-1.ipynb?jupyter-notebook#W1sdW50aXRsZWQ%3D?line=10'>11</a>\u001b[0m \u001b[39m# Checking if vanishing point found\u001b[39;00m\n",
      "\u001b[1;32mUntitled-1.ipynb Cell 7\u001b[0m line \u001b[0;36m1\n\u001b[0;32m      <a href='vscode-notebook-cell:Untitled-1.ipynb?jupyter-notebook#W1sdW50aXRsZWQ%3D?line=7'>8</a>\u001b[0m D \u001b[39m=\u001b[39m (\u001b[39m320\u001b[39m,\u001b[39m240\u001b[39m) \u001b[39m#right_down_corner\u001b[39;00m\n\u001b[0;32m      <a href='vscode-notebook-cell:Untitled-1.ipynb?jupyter-notebook#W1sdW50aXRsZWQ%3D?line=8'>9</a>\u001b[0m \u001b[39mfor\u001b[39;00m line \u001b[39min\u001b[39;00m Lines:\n\u001b[1;32m---> <a href='vscode-notebook-cell:Untitled-1.ipynb?jupyter-notebook#W1sdW50aXRsZWQ%3D?line=9'>10</a>\u001b[0m     [[x1, y1, x2, y2]] \u001b[39m=\u001b[39m line\n\u001b[0;32m     <a href='vscode-notebook-cell:Untitled-1.ipynb?jupyter-notebook#W1sdW50aXRsZWQ%3D?line=10'>11</a>\u001b[0m     \u001b[39mif\u001b[39;00m point_pos(x1,y1,A,B,V) \u001b[39mand\u001b[39;00m point_pos(x2,y2,A,B,V):\n\u001b[0;32m     <a href='vscode-notebook-cell:Untitled-1.ipynb?jupyter-notebook#W1sdW50aXRsZWQ%3D?line=11'>12</a>\u001b[0m         wall \u001b[39m=\u001b[39m \u001b[39m\"\u001b[39m\u001b[39mLEFTTWALL\u001b[39m\u001b[39m\"\u001b[39m\n",
      "\u001b[1;31mValueError\u001b[0m: too many values to unpack (expected 1)"
     ]
    }
   ],
   "source": [
    "\n",
    "if __name__ == \"__main__\":\n",
    "        Image = cv2.imread(\"benchmark_data\\\\20231106-182012\\\\506_-1.999885817130722_15.978629028113254_0.png\")\n",
    "        #dimensions of the image - 320 * 240\n",
    "        # Getting the lines form the image\n",
    "        Lines = GetLines(Image)\n",
    "        \n",
    "        # Get vanishing point\n",
    "        VanishingPoint = GetVanishingPoint(Lines)\n",
    "        # Wall = walldetection(Lines,VanishingPoint)\n",
    "        # print(Wall)\n",
    "        # Checking if vanishing point found\n",
    "        if VanishingPoint is None:\n",
    "            print(\"Vanishing Point not found. Possible reason is that not enough lines are found in the image for determination of vanishing point.\")\n",
    "\n",
    "        # Drawing lines and vanishing point\n",
    "        for Line in Lines:\n",
    "            cv2.line(Image, (Line[0], Line[1]), (Line[2], Line[3]), (0, 255, 0), 2)\n",
    "        cv2.circle(Image, (int(VanishingPoint[0]), int(VanishingPoint[1])), 1, (0, 0, 255), -1)\n",
    "        print(VanishingPoint)\n",
    "        # Showing the final image\n",
    "        cv2.imshow(\"OutputImage\", Image)\n",
    "        cv2.waitKey(0)"
   ]
  }
 ],
 "metadata": {
  "kernelspec": {
   "display_name": "Python 3",
   "language": "python",
   "name": "python3"
  },
  "language_info": {
   "codemirror_mode": {
    "name": "ipython",
    "version": 3
   },
   "file_extension": ".py",
   "mimetype": "text/x-python",
   "name": "python",
   "nbconvert_exporter": "python",
   "pygments_lexer": "ipython3",
   "version": "3.11.7"
  }
 },
 "nbformat": 4,
 "nbformat_minor": 2
}
